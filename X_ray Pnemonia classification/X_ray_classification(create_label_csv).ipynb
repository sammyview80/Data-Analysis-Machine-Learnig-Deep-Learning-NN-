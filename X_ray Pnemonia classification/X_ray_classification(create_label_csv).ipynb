{
  "nbformat": 4,
  "nbformat_minor": 0,
  "metadata": {
    "colab": {
      "name": "X-ray classification(create label.csv).ipynb",
      "provenance": [],
      "collapsed_sections": []
    },
    "kernelspec": {
      "name": "python3",
      "display_name": "Python 3"
    },
    "accelerator": "GPU"
  },
  "cells": [
    {
      "cell_type": "code",
      "metadata": {
        "id": "1VJlRZKNsR0V",
        "colab_type": "code",
        "colab": {}
      },
      "source": [
        "import os\n",
        "import pandas as pd\n",
        "import numpy as np\n",
        "import tensorflow as tf\n",
        "import tensorflow_hub as hub\n"
      ],
      "execution_count": 0,
      "outputs": []
    },
    {
      "cell_type": "code",
      "metadata": {
        "id": "-qV60q95vE-C",
        "colab_type": "code",
        "outputId": "0389970b-7557-4946-e69a-860fe4446e5d",
        "colab": {
          "base_uri": "https://localhost:8080/",
          "height": 34
        }
      },
      "source": [
        "# Check for GPU  availability\n",
        "print('GPU', 'available' if tf.config.list_physical_devices('GPU') else 'not available')"
      ],
      "execution_count": 0,
      "outputs": [
        {
          "output_type": "stream",
          "text": [
            "GPU available\n"
          ],
          "name": "stdout"
        }
      ]
    },
    {
      "cell_type": "markdown",
      "metadata": {
        "id": "OwRvc9LnvkWw",
        "colab_type": "text"
      },
      "source": [
        "# Creating label.csv (merging the val and train data with the corresponding target)\n",
        "\n",
        "## Creating the data frame serially"
      ]
    },
    {
      "cell_type": "code",
      "metadata": {
        "id": "fgsaHCLZvtV9",
        "colab_type": "code",
        "colab": {}
      },
      "source": [
        "# Path's for data\n",
        "path_trainNormal = '/content/drive/My Drive/Pnemonia classification/chest_xray/train/NORMAL'\n",
        "path_trainPnemonia = '/content/drive/My Drive/Pnemonia classification/chest_xray/train/PNEUMONIA'\n",
        "path_valNormal = '/content/drive/My Drive/Pnemonia classification/chest_xray/val/NORMAL'\n",
        "path_valPnemonia = '/content/drive/My Drive/Pnemonia classification/chest_xray/val/PNEUMONIA'"
      ],
      "execution_count": 0,
      "outputs": []
    },
    {
      "cell_type": "code",
      "metadata": {
        "id": "GMZPH6BBwAO_",
        "colab_type": "code",
        "colab": {}
      },
      "source": [
        "# Getting the file form the directory.\n",
        "id_label = [name for name in os.listdir(path_trainNormal)]\n",
        "# Filtering the file with extenstion .jpeg\n",
        "id_label = [ids for ids in id_label if ids.endswith(\".jpeg\")]"
      ],
      "execution_count": 0,
      "outputs": []
    },
    {
      "cell_type": "code",
      "metadata": {
        "id": "Nbxjj-oKw_ju",
        "colab_type": "code",
        "colab": {}
      },
      "source": [
        "#Changing the list into the np array for ease.\n",
        "id_label = np.array(id_label)"
      ],
      "execution_count": 0,
      "outputs": []
    },
    {
      "cell_type": "code",
      "metadata": {
        "id": "4gq_g8b9x4sF",
        "colab_type": "code",
        "colab": {}
      },
      "source": [
        "# Creating the data frame with pandas.\n",
        "idDataframe = pd.DataFrame(id_label, columns=['id'])"
      ],
      "execution_count": 0,
      "outputs": []
    },
    {
      "cell_type": "code",
      "metadata": {
        "id": "MxPlJw9kyBvd",
        "colab_type": "code",
        "outputId": "f4b13972-02b2-45b4-86a2-73137ed2b1c8",
        "colab": {
          "base_uri": "https://localhost:8080/",
          "height": 204
        }
      },
      "source": [
        "# Viewing the data frame\n",
        "idDataframe.head()"
      ],
      "execution_count": 0,
      "outputs": [
        {
          "output_type": "execute_result",
          "data": {
            "text/html": [
              "<div>\n",
              "<style scoped>\n",
              "    .dataframe tbody tr th:only-of-type {\n",
              "        vertical-align: middle;\n",
              "    }\n",
              "\n",
              "    .dataframe tbody tr th {\n",
              "        vertical-align: top;\n",
              "    }\n",
              "\n",
              "    .dataframe thead th {\n",
              "        text-align: right;\n",
              "    }\n",
              "</style>\n",
              "<table border=\"1\" class=\"dataframe\">\n",
              "  <thead>\n",
              "    <tr style=\"text-align: right;\">\n",
              "      <th></th>\n",
              "      <th>id</th>\n",
              "    </tr>\n",
              "  </thead>\n",
              "  <tbody>\n",
              "    <tr>\n",
              "      <th>0</th>\n",
              "      <td>NORMAL2-IM-0780-0001.jpeg</td>\n",
              "    </tr>\n",
              "    <tr>\n",
              "      <th>1</th>\n",
              "      <td>NORMAL2-IM-0804-0001.jpeg</td>\n",
              "    </tr>\n",
              "    <tr>\n",
              "      <th>2</th>\n",
              "      <td>NORMAL2-IM-0790-0001.jpeg</td>\n",
              "    </tr>\n",
              "    <tr>\n",
              "      <th>3</th>\n",
              "      <td>NORMAL2-IM-0803-0001.jpeg</td>\n",
              "    </tr>\n",
              "    <tr>\n",
              "      <th>4</th>\n",
              "      <td>NORMAL2-IM-0793-0001.jpeg</td>\n",
              "    </tr>\n",
              "  </tbody>\n",
              "</table>\n",
              "</div>"
            ],
            "text/plain": [
              "                          id\n",
              "0  NORMAL2-IM-0780-0001.jpeg\n",
              "1  NORMAL2-IM-0804-0001.jpeg\n",
              "2  NORMAL2-IM-0790-0001.jpeg\n",
              "3  NORMAL2-IM-0803-0001.jpeg\n",
              "4  NORMAL2-IM-0793-0001.jpeg"
            ]
          },
          "metadata": {
            "tags": []
          },
          "execution_count": 30
        }
      ]
    },
    {
      "cell_type": "code",
      "metadata": {
        "id": "8JA289MVyZTg",
        "colab_type": "code",
        "colab": {}
      },
      "source": [
        "# As this is the Normal x-ray dessignated as 0\n",
        "# New column with target 0\n",
        "idDataframe['target'] = 0"
      ],
      "execution_count": 0,
      "outputs": []
    },
    {
      "cell_type": "code",
      "metadata": {
        "id": "HEptbGoWyd3U",
        "colab_type": "code",
        "outputId": "df37c37c-1e42-4ca2-982f-85d3a19d22f8",
        "colab": {
          "base_uri": "https://localhost:8080/",
          "height": 204
        }
      },
      "source": [
        "# viewing the data\n",
        "idDataframe.head()"
      ],
      "execution_count": 0,
      "outputs": [
        {
          "output_type": "execute_result",
          "data": {
            "text/html": [
              "<div>\n",
              "<style scoped>\n",
              "    .dataframe tbody tr th:only-of-type {\n",
              "        vertical-align: middle;\n",
              "    }\n",
              "\n",
              "    .dataframe tbody tr th {\n",
              "        vertical-align: top;\n",
              "    }\n",
              "\n",
              "    .dataframe thead th {\n",
              "        text-align: right;\n",
              "    }\n",
              "</style>\n",
              "<table border=\"1\" class=\"dataframe\">\n",
              "  <thead>\n",
              "    <tr style=\"text-align: right;\">\n",
              "      <th></th>\n",
              "      <th>id</th>\n",
              "      <th>target</th>\n",
              "    </tr>\n",
              "  </thead>\n",
              "  <tbody>\n",
              "    <tr>\n",
              "      <th>0</th>\n",
              "      <td>NORMAL2-IM-0780-0001.jpeg</td>\n",
              "      <td>0</td>\n",
              "    </tr>\n",
              "    <tr>\n",
              "      <th>1</th>\n",
              "      <td>NORMAL2-IM-0804-0001.jpeg</td>\n",
              "      <td>0</td>\n",
              "    </tr>\n",
              "    <tr>\n",
              "      <th>2</th>\n",
              "      <td>NORMAL2-IM-0790-0001.jpeg</td>\n",
              "      <td>0</td>\n",
              "    </tr>\n",
              "    <tr>\n",
              "      <th>3</th>\n",
              "      <td>NORMAL2-IM-0803-0001.jpeg</td>\n",
              "      <td>0</td>\n",
              "    </tr>\n",
              "    <tr>\n",
              "      <th>4</th>\n",
              "      <td>NORMAL2-IM-0793-0001.jpeg</td>\n",
              "      <td>0</td>\n",
              "    </tr>\n",
              "  </tbody>\n",
              "</table>\n",
              "</div>"
            ],
            "text/plain": [
              "                          id  target\n",
              "0  NORMAL2-IM-0780-0001.jpeg       0\n",
              "1  NORMAL2-IM-0804-0001.jpeg       0\n",
              "2  NORMAL2-IM-0790-0001.jpeg       0\n",
              "3  NORMAL2-IM-0803-0001.jpeg       0\n",
              "4  NORMAL2-IM-0793-0001.jpeg       0"
            ]
          },
          "metadata": {
            "tags": []
          },
          "execution_count": 34
        }
      ]
    },
    {
      "cell_type": "markdown",
      "metadata": {
        "id": "LByjXKWJ0YTt",
        "colab_type": "text"
      },
      "source": [
        "Create a function that will convert the normal and pnemonia file into corresponding dataframe with the target value.\n",
        "Algorithm:\n",
        "1. Get the file name with the directory(path).\n",
        "2. Filter the data with .jpeg extension.\n",
        "3. Change the data into np.array for ease.\n",
        "4. Create the dataframe for the data.\n",
        "5. If normal if false then it is pnemonia data so target will be 1. \n",
        "6. Create a new column with target with correspoding value as per the normal or not.\n",
        "7. Return the data frame.\n"
      ]
    },
    {
      "cell_type": "code",
      "metadata": {
        "id": "0xKBKldXyhz9",
        "colab_type": "code",
        "colab": {}
      },
      "source": [
        "# Creating the function for the creation of dataframe\n",
        "def createDataFrame(path, normal=False):\n",
        "  \"\"\"\n",
        "  Create a data frame and return it. \n",
        "  \"\"\"\n",
        "  # Get the name wit the directory.\n",
        "  files = [file for file in os.listdir(path)]\n",
        "\n",
        "  # Filter the data with the extension.\n",
        "  files = [file for file in files if file.endswith(\".jpeg\")]\n",
        "\n",
        "  # Creating the np array for ease.\n",
        "  files = np.array(files)\n",
        "\n",
        "  # Create a data frame \n",
        "  filesDataframe = pd.DataFrame(files, columns=['id'])\n",
        "\n",
        "  # If normal is false then it is pnemonia data so target will be 1 else 0\n",
        "  if 'target' in filesDataframe.columns:\n",
        "    print('Column already exist!')\n",
        "    return 0\n",
        "  if normal:\n",
        "    filesDataframe['target'] = 0\n",
        "  else:\n",
        "    filesDataframe['target'] = 1\n",
        "  # Return the dataframe \n",
        "  return filesDataframe"
      ],
      "execution_count": 0,
      "outputs": []
    },
    {
      "cell_type": "code",
      "metadata": {
        "id": "qA_GKSaB3rTb",
        "colab_type": "code",
        "colab": {}
      },
      "source": [
        "# For path_trainPnemonia\n",
        "dfTrainPnemonia = createDataFrame(path_trainPnemonia, normal=False)\n",
        "# For path_trainNormal\n",
        "dfTrainNormal = createDataFrame(path_trainNormal, normal=True)\n",
        "\n",
        "# For path_valPnemonia\n",
        "dfValPnemonia= createDataFrame(path_valPnemonia, normal=False)\n",
        "# For path_valNormal\n",
        "dfValNormal= createDataFrame(path_valNormal, normal=True)\n"
      ],
      "execution_count": 0,
      "outputs": []
    },
    {
      "cell_type": "code",
      "metadata": {
        "id": "WRW7Eo7R4PrP",
        "colab_type": "code",
        "outputId": "69cb2dc5-0be3-4386-b532-600a6a17d075",
        "colab": {
          "base_uri": "https://localhost:8080/",
          "height": 34
        }
      },
      "source": [
        "dfValPnemonia.shape, dfValNormal.shape, dfTrainNormal.shape, dfTrainPnemonia.shape"
      ],
      "execution_count": 0,
      "outputs": [
        {
          "output_type": "execute_result",
          "data": {
            "text/plain": [
              "((8, 2), (8, 2), (1341, 2), (3875, 2))"
            ]
          },
          "metadata": {
            "tags": []
          },
          "execution_count": 133
        }
      ]
    },
    {
      "cell_type": "code",
      "metadata": {
        "id": "-mNt_E9bAhBR",
        "colab_type": "code",
        "colab": {}
      },
      "source": [
        "dfDict = {'valPnemonia':dfValPnemonia,\n",
        "          'valNormal': dfValNormal,\n",
        "          'trainNormal': dfTrainNormal,\n",
        "          'trainPnemonia': dfTrainPnemonia}"
      ],
      "execution_count": 0,
      "outputs": []
    },
    {
      "cell_type": "markdown",
      "metadata": {
        "id": "31rDQz00_fb8",
        "colab_type": "text"
      },
      "source": [
        "Creating a function that will concat the dataframe horizontally and vertically (This function will take dictonary of the data frame)\n",
        "Algorithm:\n",
        "1. Reset the index just left one. (df.reset_index(drop=True))\n",
        "2. Create a variable for the first value in dict ie df1.\n",
        "3. Loop throught the dict.items() \n",
        "  1. If i == 1 then continue.\n",
        "  2. New variable resetdf whose index is reset using(values.reset_index  (drop=True))\n",
        "  3. Concat the first values df1 and the resetdf.\n",
        "  4. Now the first data frame df1 will be the new dataframe df.\n",
        "2. For vertical concat axis = 0 ie  (pd.concat([df1, df2], axis=0)\n",
        "3. For horizontal concat axis = 1 ie column (pd.concat([df1, df2], axis=1)\n"
      ]
    },
    {
      "cell_type": "code",
      "metadata": {
        "id": "ntT0MWNoAKNw",
        "colab_type": "code",
        "colab": {}
      },
      "source": [
        "# Creating a function for the concat of dataframe\n",
        "def dfConcat(dfDict):\n",
        "  \"\"\"\n",
        "  This is for concat of df vertical.\n",
        "  \"\"\"\n",
        "  # Reset the index just left one.\n",
        "  df1 = list(dfDict.values())[0] \n",
        "  for i, (keys, values) in enumerate(dfDict.items()):\n",
        "    if i is 0:\n",
        "      continue\n",
        "    resetdf = values.reset_index(drop=True)\n",
        "    df = pd.concat([df1, resetdf], axis = 0)\n",
        "    df1 = df\n",
        "  return df1"
      ],
      "execution_count": 0,
      "outputs": []
    },
    {
      "cell_type": "code",
      "metadata": {
        "id": "OpP6FNPjCMkK",
        "colab_type": "code",
        "outputId": "2682807b-3c5e-488b-b19f-6929f594f078",
        "colab": {
          "base_uri": "https://localhost:8080/",
          "height": 419
        }
      },
      "source": [
        "dfx_rayClassification = dfConcat(dfDict)\n",
        "dfx_rayClassification"
      ],
      "execution_count": 0,
      "outputs": [
        {
          "output_type": "execute_result",
          "data": {
            "text/html": [
              "<div>\n",
              "<style scoped>\n",
              "    .dataframe tbody tr th:only-of-type {\n",
              "        vertical-align: middle;\n",
              "    }\n",
              "\n",
              "    .dataframe tbody tr th {\n",
              "        vertical-align: top;\n",
              "    }\n",
              "\n",
              "    .dataframe thead th {\n",
              "        text-align: right;\n",
              "    }\n",
              "</style>\n",
              "<table border=\"1\" class=\"dataframe\">\n",
              "  <thead>\n",
              "    <tr style=\"text-align: right;\">\n",
              "      <th></th>\n",
              "      <th>id</th>\n",
              "      <th>target</th>\n",
              "    </tr>\n",
              "  </thead>\n",
              "  <tbody>\n",
              "    <tr>\n",
              "      <th>0</th>\n",
              "      <td>person1946_bacteria_4874.jpeg</td>\n",
              "      <td>1</td>\n",
              "    </tr>\n",
              "    <tr>\n",
              "      <th>1</th>\n",
              "      <td>person1947_bacteria_4876.jpeg</td>\n",
              "      <td>1</td>\n",
              "    </tr>\n",
              "    <tr>\n",
              "      <th>2</th>\n",
              "      <td>person1950_bacteria_4881.jpeg</td>\n",
              "      <td>1</td>\n",
              "    </tr>\n",
              "    <tr>\n",
              "      <th>3</th>\n",
              "      <td>person1949_bacteria_4880.jpeg</td>\n",
              "      <td>1</td>\n",
              "    </tr>\n",
              "    <tr>\n",
              "      <th>4</th>\n",
              "      <td>person1946_bacteria_4875.jpeg</td>\n",
              "      <td>1</td>\n",
              "    </tr>\n",
              "    <tr>\n",
              "      <th>...</th>\n",
              "      <td>...</td>\n",
              "      <td>...</td>\n",
              "    </tr>\n",
              "    <tr>\n",
              "      <th>3870</th>\n",
              "      <td>person1107_bacteria_3048.jpeg</td>\n",
              "      <td>1</td>\n",
              "    </tr>\n",
              "    <tr>\n",
              "      <th>3871</th>\n",
              "      <td>person1106_virus_1829.jpeg</td>\n",
              "      <td>1</td>\n",
              "    </tr>\n",
              "    <tr>\n",
              "      <th>3872</th>\n",
              "      <td>person110_virus_205.jpeg</td>\n",
              "      <td>1</td>\n",
              "    </tr>\n",
              "    <tr>\n",
              "      <th>3873</th>\n",
              "      <td>person1108_bacteria_3049.jpeg</td>\n",
              "      <td>1</td>\n",
              "    </tr>\n",
              "    <tr>\n",
              "      <th>3874</th>\n",
              "      <td>person110_virus_206.jpeg</td>\n",
              "      <td>1</td>\n",
              "    </tr>\n",
              "  </tbody>\n",
              "</table>\n",
              "<p>5232 rows × 2 columns</p>\n",
              "</div>"
            ],
            "text/plain": [
              "                                 id  target\n",
              "0     person1946_bacteria_4874.jpeg       1\n",
              "1     person1947_bacteria_4876.jpeg       1\n",
              "2     person1950_bacteria_4881.jpeg       1\n",
              "3     person1949_bacteria_4880.jpeg       1\n",
              "4     person1946_bacteria_4875.jpeg       1\n",
              "...                             ...     ...\n",
              "3870  person1107_bacteria_3048.jpeg       1\n",
              "3871     person1106_virus_1829.jpeg       1\n",
              "3872       person110_virus_205.jpeg       1\n",
              "3873  person1108_bacteria_3049.jpeg       1\n",
              "3874       person110_virus_206.jpeg       1\n",
              "\n",
              "[5232 rows x 2 columns]"
            ]
          },
          "metadata": {
            "tags": []
          },
          "execution_count": 136
        }
      ]
    },
    {
      "cell_type": "code",
      "metadata": {
        "id": "ffK2cE_aKtBq",
        "colab_type": "code",
        "outputId": "e889978b-d95b-4d27-b300-692bd11c36c9",
        "colab": {
          "base_uri": "https://localhost:8080/",
          "height": 204
        }
      },
      "source": [
        "dfx_rayClassification.head()"
      ],
      "execution_count": 0,
      "outputs": [
        {
          "output_type": "execute_result",
          "data": {
            "text/html": [
              "<div>\n",
              "<style scoped>\n",
              "    .dataframe tbody tr th:only-of-type {\n",
              "        vertical-align: middle;\n",
              "    }\n",
              "\n",
              "    .dataframe tbody tr th {\n",
              "        vertical-align: top;\n",
              "    }\n",
              "\n",
              "    .dataframe thead th {\n",
              "        text-align: right;\n",
              "    }\n",
              "</style>\n",
              "<table border=\"1\" class=\"dataframe\">\n",
              "  <thead>\n",
              "    <tr style=\"text-align: right;\">\n",
              "      <th></th>\n",
              "      <th>id</th>\n",
              "      <th>target</th>\n",
              "    </tr>\n",
              "  </thead>\n",
              "  <tbody>\n",
              "    <tr>\n",
              "      <th>0</th>\n",
              "      <td>person1946_bacteria_4874.jpeg</td>\n",
              "      <td>1</td>\n",
              "    </tr>\n",
              "    <tr>\n",
              "      <th>1</th>\n",
              "      <td>person1947_bacteria_4876.jpeg</td>\n",
              "      <td>1</td>\n",
              "    </tr>\n",
              "    <tr>\n",
              "      <th>2</th>\n",
              "      <td>person1950_bacteria_4881.jpeg</td>\n",
              "      <td>1</td>\n",
              "    </tr>\n",
              "    <tr>\n",
              "      <th>3</th>\n",
              "      <td>person1949_bacteria_4880.jpeg</td>\n",
              "      <td>1</td>\n",
              "    </tr>\n",
              "    <tr>\n",
              "      <th>4</th>\n",
              "      <td>person1946_bacteria_4875.jpeg</td>\n",
              "      <td>1</td>\n",
              "    </tr>\n",
              "  </tbody>\n",
              "</table>\n",
              "</div>"
            ],
            "text/plain": [
              "                              id  target\n",
              "0  person1946_bacteria_4874.jpeg       1\n",
              "1  person1947_bacteria_4876.jpeg       1\n",
              "2  person1950_bacteria_4881.jpeg       1\n",
              "3  person1949_bacteria_4880.jpeg       1\n",
              "4  person1946_bacteria_4875.jpeg       1"
            ]
          },
          "metadata": {
            "tags": []
          },
          "execution_count": 138
        }
      ]
    },
    {
      "cell_type": "code",
      "metadata": {
        "id": "0gIMr6XVLXoQ",
        "colab_type": "code",
        "colab": {}
      },
      "source": [
        "# shuffle the sample and reset the index \n",
        "dfx_rayClassification = dfx_rayClassification.sample(frac=1).reset_index(drop=True)"
      ],
      "execution_count": 0,
      "outputs": []
    },
    {
      "cell_type": "code",
      "metadata": {
        "id": "d-5NGEPvCT17",
        "colab_type": "code",
        "colab": {}
      },
      "source": [
        "# Saving the data frame into csv file.\n",
        "dfx_rayClassification.to_csv('/content/drive/My Drive/Pnemonia classification/label.csv', index=False)"
      ],
      "execution_count": 0,
      "outputs": []
    },
    {
      "cell_type": "code",
      "metadata": {
        "id": "z4aHueKFKaqX",
        "colab_type": "code",
        "colab": {}
      },
      "source": [
        "df = pd.read_csv('/content/drive/My Drive/Pnemonia classification/label.csv')"
      ],
      "execution_count": 0,
      "outputs": []
    },
    {
      "cell_type": "code",
      "metadata": {
        "id": "my5ip8SmLtBZ",
        "colab_type": "code",
        "colab": {}
      },
      "source": [
        ""
      ],
      "execution_count": 0,
      "outputs": []
    }
  ]
}