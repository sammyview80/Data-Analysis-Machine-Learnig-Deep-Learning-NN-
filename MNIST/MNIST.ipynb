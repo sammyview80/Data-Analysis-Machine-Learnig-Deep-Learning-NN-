{
 "cells": [
  {
   "cell_type": "markdown",
   "metadata": {},
   "source": [
    "# MNIST  classification using Neural Net\n",
    "\n",
    "## 1. Problem \n",
    "Classification of digit.\n",
    "## 2. Data:\n",
    "mnist data set from keras.datasets.mnist\n"
   ]
  },
  {
   "cell_type": "code",
   "execution_count": 18,
   "metadata": {},
   "outputs": [
    {
     "name": "stdout",
     "output_type": "stream",
     "text": [
      "[0 1 2 3 4 5 6 7 8 9]\n",
      "[5 0 4 ... 5 6 8]\n"
     ]
    }
   ],
   "source": [
    "import tensorflow as tf\n",
    "import numpy as np\n",
    "    # Getting the data from keras api\n",
    "mnist = tf.keras.datasets.mnist\n",
    "\n",
    "# Loading the data \n",
    "(x_train, y_train), (x_test, y_test) = mnist.load_data()\n",
    "print(np.unique(y_train))\n",
    "print(y_train)\n"
   ]
  },
  {
   "cell_type": "code",
   "execution_count": 19,
   "metadata": {},
   "outputs": [],
   "source": [
    "def train_minist():\n",
    "    \"\"\"\n",
    "    Train, compile and fits the data and return the model\n",
    "    \"\"\"\n",
    "    # Callbacks \n",
    "    class myCallbacks(tf.keras.callbacks.Callback):\n",
    "        def on_epoch_end(self, epoch, logs={}):\n",
    "            if(logs.get('loss')<0.05):\n",
    "                print(\"\\nReached 60% accuracy so cancelling traning\")\n",
    "                self.model.stop_training = True\n",
    "    \n",
    "    # Getting the data\n",
    "    mnist = tf.keras.datasets.mnist\n",
    "    \n",
    "    # Loading the data \n",
    "    (x_train, y_train), (x_test, y_test) = mnist.load_data()\n",
    "    output_shape = np.unique(y_train)\n",
    "    \n",
    "    # Inistilize the callbacks\n",
    "    callbacks = myCallbacks()\n",
    "    \n",
    "    # Normalization of the data\n",
    "    x_train = x_train/255\n",
    "    x_test = x_test/255\n",
    "    \n",
    "    # Neural Net\n",
    "    model = tf.keras.models.Sequential([\n",
    "        tf.keras.layers.Flatten(), # Input_shape is  figured by itself\n",
    "        tf.keras.layers.Dense(units=1024, activation='relu'),\n",
    "        tf.keras.layers.Dense(units=10, activation='softmax')\n",
    "    ])\n",
    "    \n",
    "    # Complie the model with optmizer and loss function\n",
    "    model.compile(optimizer='adam',\n",
    "                 loss='sparse_categorical_crossentropy',\n",
    "                 metrics=['accuracy']\n",
    "                 )\n",
    "    \n",
    "    #Fitting the model\n",
    "    model.fit(x_train, y_train, epochs=15, callbacks=[callbacks])\n",
    "    \n",
    "    \n",
    "    #return the model\n",
    "    return model\n",
    "    "
   ]
  },
  {
   "cell_type": "code",
   "execution_count": 20,
   "metadata": {},
   "outputs": [
    {
     "name": "stdout",
     "output_type": "stream",
     "text": [
      "Train on 60000 samples\n",
      "Epoch 1/15\n",
      "60000/60000 [==============================] - 9s 144us/sample - loss: 0.1873 - accuracy: 0.9431\n",
      "Epoch 2/15\n",
      "60000/60000 [==============================] - 8s 140us/sample - loss: 0.0750 - accuracy: 0.9768\n",
      "Epoch 3/15\n",
      "59680/60000 [============================>.] - ETA: 0s - loss: 0.0477 - accuracy: 0.9849\n",
      "Reached 60% accuracy so cancelling traning\n",
      "60000/60000 [==============================] - 8s 138us/sample - loss: 0.0478 - accuracy: 0.9849\n"
     ]
    }
   ],
   "source": [
    "model = train_minist()"
   ]
  },
  {
   "cell_type": "code",
   "execution_count": 27,
   "metadata": {},
   "outputs": [],
   "source": [
    "y_preds = model.predict(x_test)\n",
    "output_shape = np.unique(y_train)"
   ]
  },
  {
   "cell_type": "code",
   "execution_count": 28,
   "metadata": {},
   "outputs": [
    {
     "data": {
      "text/plain": [
       "7"
      ]
     },
     "execution_count": 28,
     "metadata": {},
     "output_type": "execute_result"
    }
   ],
   "source": [
    "output_shape[y_preds[0].argmax()]"
   ]
  },
  {
   "cell_type": "code",
   "execution_count": 30,
   "metadata": {},
   "outputs": [
    {
     "name": "stdout",
     "output_type": "stream",
     "text": [
      "Predicted values:7 and actual value:7\n",
      "Predicted values:2 and actual value:2\n",
      "Predicted values:1 and actual value:1\n",
      "Predicted values:0 and actual value:0\n",
      "Predicted values:4 and actual value:4\n",
      "Predicted values:1 and actual value:1\n",
      "Predicted values:4 and actual value:4\n",
      "Predicted values:9 and actual value:9\n",
      "Predicted values:6 and actual value:5\n",
      "Predicted values:9 and actual value:9\n",
      "Predicted values:0 and actual value:0\n",
      "Predicted values:6 and actual value:6\n",
      "Predicted values:9 and actual value:9\n",
      "Predicted values:0 and actual value:0\n",
      "Predicted values:1 and actual value:1\n",
      "Predicted values:5 and actual value:5\n",
      "Predicted values:9 and actual value:9\n",
      "Predicted values:7 and actual value:7\n",
      "Predicted values:3 and actual value:3\n",
      "Predicted values:4 and actual value:4\n",
      "Predicted values:9 and actual value:9\n",
      "Predicted values:6 and actual value:6\n",
      "Predicted values:6 and actual value:6\n",
      "Predicted values:5 and actual value:5\n",
      "Predicted values:4 and actual value:4\n",
      "Predicted values:0 and actual value:0\n",
      "Predicted values:7 and actual value:7\n",
      "Predicted values:4 and actual value:4\n",
      "Predicted values:0 and actual value:0\n",
      "Predicted values:1 and actual value:1\n",
      "Predicted values:3 and actual value:3\n",
      "Predicted values:1 and actual value:1\n",
      "Predicted values:3 and actual value:3\n",
      "Predicted values:4 and actual value:4\n",
      "Predicted values:7 and actual value:7\n",
      "Predicted values:2 and actual value:2\n",
      "Predicted values:7 and actual value:7\n",
      "Predicted values:1 and actual value:1\n",
      "Predicted values:2 and actual value:2\n",
      "Predicted values:1 and actual value:1\n",
      "Predicted values:1 and actual value:1\n",
      "Predicted values:7 and actual value:7\n",
      "Predicted values:4 and actual value:4\n",
      "Predicted values:2 and actual value:2\n",
      "Predicted values:3 and actual value:3\n",
      "Predicted values:5 and actual value:5\n",
      "Predicted values:1 and actual value:1\n",
      "Predicted values:2 and actual value:2\n",
      "Predicted values:4 and actual value:4\n",
      "Predicted values:4 and actual value:4\n",
      "Predicted values:6 and actual value:6\n",
      "Predicted values:3 and actual value:3\n",
      "Predicted values:5 and actual value:5\n",
      "Predicted values:5 and actual value:5\n",
      "Predicted values:6 and actual value:6\n",
      "Predicted values:0 and actual value:0\n",
      "Predicted values:4 and actual value:4\n",
      "Predicted values:1 and actual value:1\n",
      "Predicted values:9 and actual value:9\n",
      "Predicted values:5 and actual value:5\n",
      "Predicted values:7 and actual value:7\n",
      "Predicted values:8 and actual value:8\n",
      "Predicted values:9 and actual value:9\n",
      "Predicted values:3 and actual value:3\n",
      "Predicted values:7 and actual value:7\n",
      "Predicted values:9 and actual value:4\n",
      "Predicted values:6 and actual value:6\n",
      "Predicted values:4 and actual value:4\n",
      "Predicted values:3 and actual value:3\n",
      "Predicted values:0 and actual value:0\n",
      "Predicted values:7 and actual value:7\n",
      "Predicted values:0 and actual value:0\n",
      "Predicted values:2 and actual value:2\n",
      "Predicted values:9 and actual value:9\n",
      "Predicted values:1 and actual value:1\n",
      "Predicted values:7 and actual value:7\n",
      "Predicted values:3 and actual value:3\n",
      "Predicted values:2 and actual value:2\n",
      "Predicted values:9 and actual value:9\n",
      "Predicted values:7 and actual value:7\n",
      "Predicted values:7 and actual value:7\n",
      "Predicted values:6 and actual value:6\n",
      "Predicted values:2 and actual value:2\n",
      "Predicted values:7 and actual value:7\n",
      "Predicted values:8 and actual value:8\n",
      "Predicted values:4 and actual value:4\n",
      "Predicted values:7 and actual value:7\n",
      "Predicted values:3 and actual value:3\n",
      "Predicted values:6 and actual value:6\n",
      "Predicted values:1 and actual value:1\n",
      "Predicted values:3 and actual value:3\n",
      "Predicted values:6 and actual value:6\n",
      "Predicted values:9 and actual value:9\n",
      "Predicted values:3 and actual value:3\n",
      "Predicted values:1 and actual value:1\n",
      "Predicted values:4 and actual value:4\n",
      "Predicted values:1 and actual value:1\n",
      "Predicted values:7 and actual value:7\n",
      "Predicted values:6 and actual value:6\n",
      "Predicted values:9 and actual value:9\n"
     ]
    }
   ],
   "source": [
    "for i in range(0,100):\n",
    "    print(f\"Predicted values:{output_shape[y_preds[i].argmax()]} and actual value:{y_test[i]}\")"
   ]
  },
  {
   "cell_type": "code",
   "execution_count": null,
   "metadata": {},
   "outputs": [],
   "source": []
  }
 ],
 "metadata": {
  "kernelspec": {
   "display_name": "Python 3",
   "language": "python",
   "name": "python3"
  },
  "language_info": {
   "codemirror_mode": {
    "name": "ipython",
    "version": 3
   },
   "file_extension": ".py",
   "mimetype": "text/x-python",
   "name": "python",
   "nbconvert_exporter": "python",
   "pygments_lexer": "ipython3",
   "version": "3.7.3"
  }
 },
 "nbformat": 4,
 "nbformat_minor": 2
}
